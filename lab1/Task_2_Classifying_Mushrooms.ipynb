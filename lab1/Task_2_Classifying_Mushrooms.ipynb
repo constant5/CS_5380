{
 "cells": [
  {
   "cell_type": "markdown",
   "metadata": {},
   "source": [
    "# CSCE 5380 Spring 2018 - Data Mining - Lab Assignment 1 - Task 2\n",
    "Constant Marks"
   ]
  },
  {
   "cell_type": "markdown",
   "metadata": {
    "toc": true
   },
   "source": [
    "<h1>Index<span class=\"tocSkip\"></span></h1>\n",
    "<div class=\"toc\"><ul class=\"toc-item\"><li><span><a href=\"#Problem-3:-Cross-validation-and-ROC-Curve\" data-toc-modified-id=\"Problem-3:-Cross-validation-and-ROC-Curve-1\"><span class=\"toc-item-num\">1&nbsp;&nbsp;</span>Problem 3: Cross-validation and ROC Curve</a></span><ul class=\"toc-item\"><li><span><a href=\"#Question-1.\" data-toc-modified-id=\"Question-1.-1.1\"><span class=\"toc-item-num\">1.1&nbsp;&nbsp;</span>Question 1.</a></span></li></ul></li><li><span><a href=\"#Problem-4:-Percentage-Split\" data-toc-modified-id=\"Problem-4:-Percentage-Split-2\"><span class=\"toc-item-num\">2&nbsp;&nbsp;</span>Problem 4: Percentage Split</a></span><ul class=\"toc-item\"><li><span><a href=\"#Question-1.\" data-toc-modified-id=\"Question-1.-2.1\"><span class=\"toc-item-num\">2.1&nbsp;&nbsp;</span>Question 1.</a></span></li></ul></li></ul></div>"
   ]
  },
  {
   "cell_type": "markdown",
   "metadata": {
    "heading_collapsed": true
   },
   "source": [
    "## Problem 3: Cross-validation and ROC Curve"
   ]
  },
  {
   "cell_type": "markdown",
   "metadata": {
    "hidden": true
   },
   "source": [
    "First we run the Random Forest and Naive Bayes classifier with 5 folds on the Mushroom data set."
   ]
  },
  {
   "cell_type": "code",
   "execution_count": 7,
   "metadata": {
    "hidden": true,
    "scrolled": true
   },
   "outputs": [
    {
     "name": "stdout",
     "output_type": "stream",
     "text": [
      "(b\"'x'\", b\"'s'\", b\"'n'\", b\"'t'\", b\"'p'\", b\"'f'\", b\"'c'\", b\"'n'\", b\"'k'\", b\"'e'\", b\"'e'\", b\"'s'\", b\"'s'\", b\"'w'\", b\"'w'\", b\"'p'\", b\"'w'\", b\"'o'\", b\"'p'\", b\"'k'\", b\"'s'\", b\"'u'\", b\"'p'\") \n",
      "\n",
      "There are 8124 records: \n"
     ]
    }
   ],
   "source": [
    "from scipy.io.arff import loadarff\n",
    "with open('data/mushroom.arff', 'r') as f:\n",
    "    data, meta = loadarff(f)\n",
    "print(data[0],'\\n')\n",
    "print('There are %d records: ' % (data.size))"
   ]
  },
  {
   "cell_type": "code",
   "execution_count": 8,
   "metadata": {
    "hidden": true
   },
   "outputs": [
    {
     "name": "stdout",
     "output_type": "stream",
     "text": [
      "[[5 2 4 1 6 1 0 1 4 0 2 2 2 7 7 0 2 1 4 2 3 5]\n",
      " [5 2 9 1 0 1 0 0 4 0 1 2 2 7 7 0 2 1 4 3 2 1]\n",
      " [0 2 8 1 3 1 0 0 5 0 1 2 2 7 7 0 2 1 4 3 2 3]\n",
      " [5 3 8 1 6 1 0 1 5 0 2 2 2 7 7 0 2 1 4 2 3 5]\n",
      " [5 2 3 0 5 1 1 0 4 1 2 2 2 7 7 0 2 1 0 3 0 1]] \n",
      "\n"
     ]
    }
   ],
   "source": [
    "X = data[meta.names()[0:-1]]\n",
    "import numpy as np\n",
    "X = np.asarray(X.tolist())\n",
    "\n",
    "from sklearn.preprocessing import LabelEncoder\n",
    "labelencoder_X = LabelEncoder()\n",
    "for i in range(np.shape(X)[1]):\n",
    "    X[:,i] = labelencoder_X.fit_transform(X[:, i])\n",
    "X = X.astype(int)\n",
    "print(X[0:5],'\\n')"
   ]
  },
  {
   "cell_type": "code",
   "execution_count": 9,
   "metadata": {
    "hidden": true,
    "scrolled": true
   },
   "outputs": [
    {
     "name": "stdout",
     "output_type": "stream",
     "text": [
      "Class Frequencies: \n",
      " [[\"'e'\" \"'p'\"]\n",
      " ['0' '1']\n",
      " ['4208' '3916']]\n"
     ]
    }
   ],
   "source": [
    "y = data[meta.names()[-1]]\n",
    "labels = np.unique(y).astype(str)\n",
    "labelencoder_y = LabelEncoder()\n",
    "y = labelencoder_y.fit_transform(y)\n",
    "bin_count = np.bincount(y)\n",
    "label_freq = np.array([labels, np.unique(y),bin_count])\n",
    "print('Class Frequencies: \\n',label_freq)"
   ]
  },
  {
   "cell_type": "code",
   "execution_count": 10,
   "metadata": {
    "collapsed": true,
    "hidden": true
   },
   "outputs": [],
   "source": [
    "# Splitting data into test and training set choosing a 25% sample Set\n",
    "from sklearn.model_selection import train_test_split\n",
    "X_train, X_test, y_train, y_test = train_test_split(X, y, test_size = 0.25)"
   ]
  },
  {
   "cell_type": "code",
   "execution_count": 11,
   "metadata": {
    "hidden": true
   },
   "outputs": [
    {
     "name": "stdout",
     "output_type": "stream",
     "text": [
      "Naive Bayes Accuracy: 0.92 (+/- 0.02)\n",
      "\n",
      "Random Forest Accuracy: 1.00 (+/- 0.00)\n",
      "\n"
     ]
    }
   ],
   "source": [
    "from sklearn.naive_bayes import GaussianNB\n",
    "from sklearn.model_selection import cross_val_score\n",
    "\n",
    "# Creating the Naive Bayes Classifier and Calculating Cross-Val Score with 5 folds\n",
    "nb_classifier = GaussianNB()\n",
    "nb_classifier.fit(X_train, y_train)\n",
    "nb_y_pred = nb_classifier.predict(X_test)\n",
    "nb_scores= cross_val_score(nb_classifier, X_train, y_train, cv=5)\n",
    "print(\"Naive Bayes Accuracy: %0.2f (+/- %0.2f)\\n\" % (nb_scores.mean(), nb_scores.std() * 2))\n",
    "\n",
    "# Creating the Random Forest Classifier and Calculating Cross-Val Score with 5 folds\n",
    "from sklearn.ensemble import RandomForestClassifier\n",
    "rf_classifier = RandomForestClassifier(n_estimators = 10, criterion = 'entropy')\n",
    "rf_classifier.fit(X_train, y_train)\n",
    "rf_y_pred = rf_classifier.predict(X_test)\n",
    "rf_classifier = RandomForestClassifier(n_estimators = 10, criterion = 'gini')\n",
    "rf_scores = cross_val_score(rf_classifier, X_train, y_train, cv=5)\n",
    "print(\"Random Forest Accuracy: %0.2f (+/- %0.2f)\\n\" % (rf_scores.mean(), rf_scores.std() * 2))\n",
    "\n"
   ]
  },
  {
   "cell_type": "markdown",
   "metadata": {
    "hidden": true
   },
   "source": [
    "### Question 1."
   ]
  },
  {
   "cell_type": "markdown",
   "metadata": {
    "hidden": true
   },
   "source": [
    "Run each of the NB and RF classifier once by a certain value for number of folds for cross-validation (e.g. 5 folds). \n",
    "\n",
    "For the results obtained, generate a [ROC curve](http://scikit-learn.org/stable/auto_examples/model_selection/plot_roc.html) for the class “p” (poisonous) for both the classifiers.\n",
    "\n",
    "   **Answer:** See above for resutls for cross validation score. The ROC Curve for poisonus mushrooms is shown below."
   ]
  },
  {
   "cell_type": "code",
   "execution_count": 12,
   "metadata": {
    "hidden": true
   },
   "outputs": [
    {
     "data": {
      "text/plain": [
       "<matplotlib.legend.Legend at 0x7f43207195c0>"
      ]
     },
     "execution_count": 12,
     "metadata": {},
     "output_type": "execute_result"
    },
    {
     "data": {
      "image/png": "[encoded data removed]",
      "text/plain": [
       "<matplotlib.figure.Figure at 0x7f4321cc7f98>"
      ]
     },
     "metadata": {},
     "output_type": "display_data"
    }
   ],
   "source": [
    "# Get the NB binary probability for the Poisonous Class\n",
    "nb_y_pred_prob = nb_classifier.predict_proba(X_test)[:,1]\n",
    "\n",
    "# Import ROC function and find ROC metrics for NB\n",
    "from sklearn.metrics import roc_curve\n",
    "fpr1, tpr1, thresholds1 = roc_curve(y_test, nb_y_pred_prob)\n",
    "\n",
    "# Get the RF binary probability for the Poisonous Class\n",
    "rf_classifier.fit(X_train, y_train)\n",
    "rf_y_pred_prob = rf_classifier.predict_proba(X_test)[:,1]\n",
    "\n",
    "# find ROC metrics for rf\n",
    "fpr2, tpr2, thresholds2 = roc_curve(y_test, rf_y_pred_prob)\n",
    "\n",
    "# Plot the ROC Curves\n",
    "import matplotlib.pyplot as plt\n",
    "%matplotlib inline\n",
    "plt.plot(fpr1,tpr1, 'g--', fpr2, tpr2,'ro')\n",
    "plt.xlim([0, 1])\n",
    "plt.ylim([0, 1])\n",
    "plt.title('ROC Curve for Poisonous Mushroom Classifiers')\n",
    "plt.xlabel('False Poisonous Positive Rate')\n",
    "plt.ylabel('True Poisonous Positive Rate')\n",
    "plt.grid(True)\n",
    "plt.legend(['Naive Bayes','Random Forest'])\n"
   ]
  },
  {
   "cell_type": "markdown",
   "metadata": {
    "heading_collapsed": true
   },
   "source": [
    "## Problem 4: Percentage Split"
   ]
  },
  {
   "cell_type": "markdown",
   "metadata": {
    "hidden": true
   },
   "source": [
    "### Question 1."
   ]
  },
  {
   "cell_type": "markdown",
   "metadata": {
    "hidden": true
   },
   "source": [
    "Run each of the NB and RF classifier once by selecting a certain percentage of training data (e.g. 40%).\n",
    "\n",
    "For the results obtained, generate a ROC curve for the class “e” (edible) for both the classifiers.\n",
    "\n",
    "**Answer:** See the ROC curve for edible mushrooms below."
   ]
  },
  {
   "cell_type": "code",
   "execution_count": 13,
   "metadata": {
    "hidden": true
   },
   "outputs": [
    {
     "data": {
      "text/plain": [
       "<matplotlib.legend.Legend at 0x7f4320641b70>"
      ]
     },
     "execution_count": 13,
     "metadata": {},
     "output_type": "execute_result"
    },
    {
     "data": {
      "image/png": "[encoded data removed]",
      "text/plain": [
       "<matplotlib.figure.Figure at 0x7f434ca87f98>"
      ]
     },
     "metadata": {},
     "output_type": "display_data"
    }
   ],
   "source": [
    "# Get the NB binary probability for the Poisonous Class\n",
    "nb_y_pred_prob = nb_classifier.predict_proba(X_test)[:,0]\n",
    "\n",
    "# Import ROC function and find ROC metrics for NB\n",
    "from sklearn.metrics import roc_curve\n",
    "fpr1, tpr1, thresholds1 = roc_curve(y_test, nb_y_pred_prob, pos_label = 0)\n",
    "\n",
    "# Get the RF binary probability for the Poisonous Class\n",
    "rf_classifier.fit(X_train, y_train)\n",
    "rf_y_pred_prob = rf_classifier.predict_proba(X_test)[:,0]\n",
    "\n",
    "# find ROC metrics for rf\n",
    "fpr2, tpr2, thresholds2 = roc_curve(y_test, rf_y_pred_prob, pos_label = 0)\n",
    "\n",
    "\n",
    "# Plot the ROC Curves\n",
    "import matplotlib.pyplot as plt\n",
    "%matplotlib inline\n",
    "plt.plot(fpr1,tpr1, 'g--', fpr2, tpr2,'ro')\n",
    "plt.xlim([0, 1])\n",
    "plt.ylim([0, 1])\n",
    "plt.title('ROC Curve for Edible Mushroom Classifiers')\n",
    "plt.xlabel('False Edible Positive Rate')\n",
    "plt.ylabel('True Edible Positive Rate')\n",
    "plt.grid(True)\n",
    "plt.legend(['Naive Bayes','Random Forest'])"
   ]
  }
 ],
 "metadata": {
  "kernelspec": {
   "display_name": "Python 3",
   "language": "python",
   "name": "python3"
  },
  "language_info": {
   "codemirror_mode": {
    "name": "ipython",
    "version": 3
   },
   "file_extension": ".py",
   "mimetype": "text/x-python",
   "name": "python",
   "nbconvert_exporter": "python",
   "pygments_lexer": "ipython3",
   "version": "3.6.3"
  },
  "toc": {
   "nav_menu": {},
   "number_sections": true,
   "sideBar": true,
   "skip_h1_title": true,
   "title_cell": "Index",
   "title_sidebar": "Contents",
   "toc_cell": true,
   "toc_position": {
    "height": "calc(100% - 180px)",
    "left": "10px",
    "top": "150px",
    "width": "307px"
   },
   "toc_section_display": true,
   "toc_window_display": false
  },
  "varInspector": {
   "cols": {
    "lenName": 16,
    "lenType": 16,
    "lenVar": 40
   },
   "kernels_config": {
    "python": {
     "delete_cmd_postfix": "",
     "delete_cmd_prefix": "del ",
     "library": "var_list.py",
     "varRefreshCmd": "print(var_dic_list())"
    },
    "r": {
     "delete_cmd_postfix": ") ",
     "delete_cmd_prefix": "rm(",
     "library": "var_list.r",
     "varRefreshCmd": "cat(var_dic_list()) "
    }
   },
   "types_to_exclude": [
    "module",
    "function",
    "builtin_function_or_method",
    "instance",
    "_Feature"
   ],
   "window_display": false
  }
 },
 "nbformat": 4,
 "nbformat_minor": 2
}
